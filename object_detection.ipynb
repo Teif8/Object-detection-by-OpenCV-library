{
  "cells": [
    {
      "cell_type": "markdown",
      "metadata": {},
      "source": [
        "# Object detection by OpenCV library"
      ]
    },
    {
      "cell_type": "markdown",
      "metadata": {},
      "source": [
        "Install OpenCV library"
      ]
    },
    {
      "cell_type": "code",
      "execution_count": 3,
      "metadata": {
        "trusted": true
      },
      "outputs": [
        {
          "name": "stdout",
          "output_type": "stream",
          "text": [
            "Collecting opencv-python\n",
            "  Using cached opencv_python-4.10.0.84-cp37-abi3-win_amd64.whl.metadata (20 kB)\n",
            "Requirement already satisfied: numpy>=1.21.2 in c:\\users\\ma\\anaconda3\\lib\\site-packages (from opencv-python) (1.26.4)\n",
            "Using cached opencv_python-4.10.0.84-cp37-abi3-win_amd64.whl (38.8 MB)\n",
            "Installing collected packages: opencv-python\n",
            "Successfully installed opencv-python-4.10.0.84\n",
            "Requirement already satisfied: numpy in c:\\users\\ma\\anaconda3\\lib\\site-packages (1.26.4)\n",
            "Requirement already satisfied: matplotlib in c:\\users\\ma\\anaconda3\\lib\\site-packages (3.8.4)\n",
            "Requirement already satisfied: contourpy>=1.0.1 in c:\\users\\ma\\anaconda3\\lib\\site-packages (from matplotlib) (1.2.0)\n",
            "Requirement already satisfied: cycler>=0.10 in c:\\users\\ma\\anaconda3\\lib\\site-packages (from matplotlib) (0.11.0)\n",
            "Requirement already satisfied: fonttools>=4.22.0 in c:\\users\\ma\\anaconda3\\lib\\site-packages (from matplotlib) (4.51.0)\n",
            "Requirement already satisfied: kiwisolver>=1.3.1 in c:\\users\\ma\\anaconda3\\lib\\site-packages (from matplotlib) (1.4.4)\n",
            "Requirement already satisfied: numpy>=1.21 in c:\\users\\ma\\anaconda3\\lib\\site-packages (from matplotlib) (1.26.4)\n",
            "Requirement already satisfied: packaging>=20.0 in c:\\users\\ma\\appdata\\roaming\\python\\python312\\site-packages (from matplotlib) (24.1)\n",
            "Requirement already satisfied: pillow>=8 in c:\\users\\ma\\anaconda3\\lib\\site-packages (from matplotlib) (10.3.0)\n",
            "Requirement already satisfied: pyparsing>=2.3.1 in c:\\users\\ma\\anaconda3\\lib\\site-packages (from matplotlib) (3.0.9)\n",
            "Requirement already satisfied: python-dateutil>=2.7 in c:\\users\\ma\\appdata\\roaming\\python\\python312\\site-packages (from matplotlib) (2.9.0.post0)\n",
            "Requirement already satisfied: six>=1.5 in c:\\users\\ma\\appdata\\roaming\\python\\python312\\site-packages (from python-dateutil>=2.7->matplotlib) (1.16.0)\n"
          ]
        }
      ],
      "source": [
        "!pip install opencv-python\n",
        "!pip install numpy\n",
        "!pip install matplotlib"
      ]
    },
    {
      "cell_type": "markdown",
      "metadata": {},
      "source": [
        "### Disblay image"
      ]
    },
    {
      "cell_type": "code",
      "execution_count": 1,
      "metadata": {
        "trusted": true
      },
      "outputs": [],
      "source": [
        "# Python code to read image\n",
        "import cv2\n",
        " \n",
        "# To read image from disk, we use\n",
        "# cv2.imread function, in below method,\n",
        "img = cv2.imread(\"lemon.jpg\", cv2.IMREAD_COLOR)\n",
        "\n",
        " \n",
        "# Creating GUI window to display an image on screen\n",
        "# first Parameter is windows title (should be in string format)\n",
        "# Second Parameter is image array\n",
        "cv2.imshow(\"image\", img)\n",
        " \n",
        "# To hold the window on screen, we use cv2.waitKey method\n",
        "# Once it detected the close input, it will release the control\n",
        "# To the next line\n",
        "# First Parameter is for holding screen for specified milliseconds\n",
        "# It should be positive integer. If 0 pass an parameter, then it will\n",
        "# hold the screen until user close it.\n",
        "cv2.waitKey(0)\n",
        " \n",
        "# It is for removing/deleting created GUI window from screen\n",
        "# and memory\n",
        "cv2.destroyAllWindows()"
      ]
    },
    {
      "cell_type": "markdown",
      "metadata": {},
      "source": [
        "\n",
        " To convert BGR to RGB, we us a function:"
      ]
    },
    {
      "cell_type": "code",
      "execution_count": 2,
      "metadata": {
        "trusted": true
      },
      "outputs": [],
      "source": [
        "import cv2\n",
        "\n",
        "img = cv2.imread(\"lemon.jpg\")\n",
        "RGB_img = cv2.cvtColor(img, cv2.COLOR_RGB2GRAY)\n",
        "\n",
        "cv2.imshow(\"image\", RGB_img)\n",
        "\n",
        "cv2.waitKey(0)\n",
        "cv2.destroyAllWindows()\n"
      ]
    },
    {
      "cell_type": "markdown",
      "metadata": {},
      "source": [
        "### Color detection real-time"
      ]
    },
    {
      "cell_type": "code",
      "execution_count": 3,
      "metadata": {},
      "outputs": [],
      "source": [
        "import cv2\n",
        "import numpy as np\n",
        "from PIL import Image\n",
        "\n",
        "# Read the image\n",
        "frame = cv2.imread(\"lemon2.jpg\")\n",
        "frame = cv2.resize(frame, (1200,800))\n",
        "\n",
        "# Check if the image is loaded correctly\n",
        "if frame is None:\n",
        "    print(\"Error loading image. Check the file path.\")\n",
        "else:\n",
        "    # Convert BGR to HSV\n",
        "    hsvImage = cv2.cvtColor(frame, cv2.COLOR_BGR2HSV)\n",
        "\n",
        "    # Define color range for detecting yellow (you may need to fine-tune this)\n",
        "    lowerLimit = np.array([0, 200, 200], np.uint8)  # Lower bound for yellow\n",
        "    upperLimit = np.array([40, 255, 255], np.uint8)  # Upper bound for yellow\n",
        "\n",
        "    # Create a mask using the defined yellow range\n",
        "    mask = cv2.inRange(hsvImage, lowerLimit, upperLimit)\n",
        "\n",
        "    # Convert the mask to PIL format for the getbbox() function\n",
        "    mask_ = Image.fromarray(mask)\n",
        "\n",
        "    # Get bounding box of the non-zero region in the mask\n",
        "    bbox = mask_.getbbox()\n",
        "\n",
        "    if bbox is not None:\n",
        "        x1, y1, x2, y2 = bbox\n",
        "        # Draw a rectangle around the detected area\n",
        "        frame = cv2.rectangle(frame, (x1, y1), (x2, y2), (0, 255, 0), 5)\n",
        "\n",
        "    else:\n",
        "        print(\"No yellow color detected within the specified range.\")\n",
        "\n",
        "    # Display the image with the bounding box\n",
        "    cv2.imshow(\"Detected Frame\", frame)\n",
        "\n",
        "    # Wait for a key press and close the window\n",
        "\n",
        "    cv2.waitKey(0)\n",
        "    cv2.destroyAllWindows()\n"
      ]
    },
    {
      "cell_type": "code",
      "execution_count": 7,
      "metadata": {},
      "outputs": [
        {
          "data": {
            "text/plain": [
              "(array([ 20, 100, 100], dtype=uint8), array([ 40, 255, 255], dtype=uint8))"
            ]
          },
          "execution_count": 7,
          "metadata": {},
          "output_type": "execute_result"
        }
      ],
      "source": [
        "import numpy as np\n",
        "import cv2\n",
        "\n",
        "\n",
        "def get_limits(color):\n",
        "    c = np.uint8([[color]])  # BGR values\n",
        "    hsvC = cv2.cvtColor(c, cv2.COLOR_BGR2HSV)\n",
        "\n",
        "    hue = hsvC[0][0][0]  # Get the hue value\n",
        "\n",
        "    # Handle red hue wrap-around\n",
        "    if hue >= 165:  # Upper limit for divided red hue\n",
        "        lowerLimit = np.array([hue - 10, 100, 100], dtype=np.uint8)\n",
        "        upperLimit = np.array([180, 255, 255], dtype=np.uint8)\n",
        "    elif hue <= 15:  # Lower limit for divided red hue\n",
        "        lowerLimit = np.array([0, 100, 100], dtype=np.uint8)\n",
        "        upperLimit = np.array([hue + 10, 255, 255], dtype=np.uint8)\n",
        "    else:\n",
        "        lowerLimit = np.array([hue - 10, 100, 100], dtype=np.uint8)\n",
        "        upperLimit = np.array([hue + 10, 255, 255], dtype=np.uint8)\n",
        "\n",
        "    return lowerLimit, upperLimit\n",
        "\n",
        "\n",
        "yellow = [0, 255, 255]  # yellow in BGR colorspace\n",
        "get_limits(yellow)"
      ]
    },
    {
      "cell_type": "code",
      "execution_count": 4,
      "metadata": {
        "trusted": true
      },
      "outputs": [],
      "source": [
        "# Python code for Multiple Color Detection \n",
        "\n",
        "\n",
        "import numpy as np \n",
        "import cv2 \n",
        "\n",
        "\n",
        "# Capturing video through webcam \n",
        "webcam = cv2.VideoCapture(1) \n",
        "\n",
        "# Start a while loop \n",
        "while(1): \n",
        "\t\n",
        "\t# Reading the video from the \n",
        "\t# webcam in image frames \n",
        "\t_, imageFrame = webcam.read() \n",
        "\n",
        "\t# Convert the imageFrame in \n",
        "\t# BGR(RGB color space) to \n",
        "\t# HSV(hue-saturation-value) \n",
        "\t# color space \n",
        "\thsvFrame = cv2.cvtColor(imageFrame, cv2.COLOR_BGR2HSV) \n",
        "\n",
        "\t# Set range for red color and \n",
        "\t# define mask \n",
        "\tred_lower = np.array([136, 87, 111], np.uint8) \n",
        "\tred_upper = np.array([180, 255, 255], np.uint8) \n",
        "\tred_mask = cv2.inRange(hsvFrame, red_lower, red_upper) \n",
        "\n",
        "\t# Set range for green color and \n",
        "\t# define mask \n",
        "\tgreen_lower = np.array([25, 52, 72], np.uint8) \n",
        "\tgreen_upper = np.array([102, 255, 255], np.uint8) \n",
        "\tgreen_mask = cv2.inRange(hsvFrame, green_lower, green_upper) \n",
        "\n",
        "\t# Set range for blue color and \n",
        "\t# define mask \n",
        "\tblue_lower = np.array([94, 80, 2], np.uint8) \n",
        "\tblue_upper = np.array([120, 255, 255], np.uint8) \n",
        "\tblue_mask = cv2.inRange(hsvFrame, blue_lower, blue_upper) \n",
        "\t\n",
        "\t# Morphological Transform, Dilation \n",
        "\t# for each color and bitwise_and operator \n",
        "\t# between imageFrame and mask determines \n",
        "\t# to detect only that particular color \n",
        "\tkernel = np.ones((5, 5), \"uint8\") \n",
        "\t\n",
        "\t# For red color \n",
        "\tred_mask = cv2.dilate(red_mask, kernel) \n",
        "\tres_red = cv2.bitwise_and(imageFrame, imageFrame, \n",
        "\t\t\t\t\t\t\tmask = red_mask) \n",
        "\t\n",
        "\t# For green color \n",
        "\tgreen_mask = cv2.dilate(green_mask, kernel) \n",
        "\tres_green = cv2.bitwise_and(imageFrame, imageFrame, \n",
        "\t\t\t\t\t\t\t\tmask = green_mask) \n",
        "\t\n",
        "\t# For blue color \n",
        "\tblue_mask = cv2.dilate(blue_mask, kernel) \n",
        "\tres_blue = cv2.bitwise_and(imageFrame, imageFrame, \n",
        "\t\t\t\t\t\t\tmask = blue_mask) \n",
        "\n",
        "\t# Creating contour to track red color \n",
        "\tcontours, hierarchy = cv2.findContours(red_mask, \n",
        "\t\t\t\t\t\t\t\t\t\tcv2.RETR_TREE, \n",
        "\t\t\t\t\t\t\t\t\t\tcv2.CHAIN_APPROX_SIMPLE) \n",
        "\t\n",
        "\tfor pic, contour in enumerate(contours): \n",
        "\t\tarea = cv2.contourArea(contour) \n",
        "\t\tif(area > 300): \n",
        "\t\t\tx, y, w, h = cv2.boundingRect(contour) \n",
        "\t\t\timageFrame = cv2.rectangle(imageFrame, (x, y), \n",
        "\t\t\t\t\t\t\t\t\t(x + w, y + h), \n",
        "\t\t\t\t\t\t\t\t\t(0, 0, 255), 2) \n",
        "\t\t\t\n",
        "\t\t\tcv2.putText(imageFrame, \"Red Colour\", (x, y), \n",
        "\t\t\t\t\t\tcv2.FONT_HERSHEY_SIMPLEX, 1.0, \n",
        "\t\t\t\t\t\t(0, 0, 255))\t \n",
        "\n",
        "\t# Creating contour to track green color \n",
        "\tcontours, hierarchy = cv2.findContours(green_mask, \n",
        "\t\t\t\t\t\t\t\t\t\tcv2.RETR_TREE, \n",
        "\t\t\t\t\t\t\t\t\t\tcv2.CHAIN_APPROX_SIMPLE) \n",
        "\t\n",
        "\tfor pic, contour in enumerate(contours): \n",
        "\t\tarea = cv2.contourArea(contour) \n",
        "\t\tif(area > 300): \n",
        "\t\t\tx, y, w, h = cv2.boundingRect(contour) \n",
        "\t\t\timageFrame = cv2.rectangle(imageFrame, (x, y), \n",
        "\t\t\t\t\t\t\t\t\t(x + w, y + h), \n",
        "\t\t\t\t\t\t\t\t\t(0, 255, 0), 2) \n",
        "\t\t\t\n",
        "\t\t\tcv2.putText(imageFrame, \"Green Colour\", (x, y), \n",
        "\t\t\t\t\t\tcv2.FONT_HERSHEY_SIMPLEX, \n",
        "\t\t\t\t\t\t1.0, (0, 255, 0)) \n",
        "\n",
        "\t# Creating contour to track blue color \n",
        "\tcontours, hierarchy = cv2.findContours(blue_mask, \n",
        "\t\t\t\t\t\t\t\t\t\tcv2.RETR_TREE, \n",
        "\t\t\t\t\t\t\t\t\t\tcv2.CHAIN_APPROX_SIMPLE) \n",
        "\tfor pic, contour in enumerate(contours): \n",
        "\t\tarea = cv2.contourArea(contour) \n",
        "\t\tif(area > 300): \n",
        "\t\t\tx, y, w, h = cv2.boundingRect(contour) \n",
        "\t\t\timageFrame = cv2.rectangle(imageFrame, (x, y), \n",
        "\t\t\t\t\t\t\t\t\t(x + w, y + h), \n",
        "\t\t\t\t\t\t\t\t\t(255, 0, 0), 2) \n",
        "\t\t\t\n",
        "\t\t\tcv2.putText(imageFrame, \"Blue Colour\", (x, y), \n",
        "\t\t\t\t\t\tcv2.FONT_HERSHEY_SIMPLEX, \n",
        "\t\t\t\t\t\t1.0, (255, 0, 0)) \n",
        "\t\t\t\n",
        "\t# Program Termination \n",
        "\tcv2.imshow(\"Multiple Color Detection in Real-TIme\", imageFrame) \n",
        "\tif cv2.waitKey(10) & 0xFF == ord('q'): \n",
        "\t\twebcam.release() \n",
        "\t\tcv2.destroyAllWindows() \n",
        "\t\tbreak\n"
      ]
    },
    {
      "cell_type": "markdown",
      "metadata": {},
      "source": [
        "### Face detection"
      ]
    },
    {
      "cell_type": "markdown",
      "metadata": {},
      "source": [
        "Haar Cascade classifiers are an effective way for object detection. This method was proposed by Paul Viola and Michael Jones in their paper Rapid Object Detection using a Boosted Cascade of Simple Features. Haar Cascade is a machine learning-based approach where a lot of positive and negative images are used to train the classifier."
      ]
    },
    {
      "cell_type": "markdown",
      "metadata": {},
      "source": [
        "XML classifiers https://github.com/Itseez/opencv/blob/master/data/haarcascades"
      ]
    },
    {
      "cell_type": "code",
      "execution_count": 5,
      "metadata": {
        "trusted": true
      },
      "outputs": [],
      "source": [
        "# Import OpenCV library\n",
        "import cv2\n",
        "\n",
        "# load the required trained XML classifiers \n",
        "# https://github.com/Itseez/opencv/blob/master/data/haarcascades\n",
        "# Trained XML classifiers describes some features of some \n",
        "# object we want to detect a cascade function is trained \n",
        "# from a lot of positive(faces) and negative(non-faces) \n",
        "# images. \n",
        "\n",
        "# Load a cascade file for detecting faces\n",
        "faceCascade = cv2.CascadeClassifier(\"haarcascade_frontalface_default.xml\");\n",
        "\n",
        "# Load image\n",
        "image = cv2.imread(\"faces.jpg\")\n",
        "\n",
        "# Convert into grayscale\n",
        "gray = cv2.cvtColor(image, cv2.COLOR_BGR2GRAY)\n",
        "\n",
        "# Look for faces in the image using the loaded cascade file\n",
        "faces = faceCascade.detectMultiScale(gray, 1.2, 5)\n",
        "for (x,y,w,h) in faces:\n",
        "        # Create rectangle around faces\n",
        "    cv2.rectangle(image,(x,y),(x+w,y+h),(255,255,0),2)\n",
        "\n",
        "# Create the resizeable window\n",
        "cv2.namedWindow('faces', cv2.WINDOW_NORMAL)\n",
        "\n",
        "# Display the image\n",
        "cv2.imshow('faces', image)\n",
        "\n",
        "# Wait until we get a key\n",
        "k=cv2.waitKey(0)\n",
        "\n",
        "# If pressed key is ESC\n",
        "if k == 27:\n",
        "    # Destroy all windows\n",
        "    cv2.destroyAllWindows()\n"
      ]
    },
    {
      "cell_type": "markdown",
      "metadata": {},
      "source": [
        "### Real-time face detection by webcam"
      ]
    },
    {
      "cell_type": "code",
      "execution_count": 6,
      "metadata": {
        "trusted": true
      },
      "outputs": [],
      "source": [
        "import cv2\n",
        "\n",
        "# load the required trained XML classifiers \n",
        "# https://github.com/Itseez/opencv/blob/master/data/haarcascades\n",
        "# Trained XML classifiers describes some features of some \n",
        "# object we want to detect a cascade function is trained \n",
        "# from a lot of positive(faces) and negative(non-faces) \n",
        "# images. \n",
        "\n",
        "# Load a cascade file for detecting faces\n",
        "faceCascade = cv2.CascadeClassifier(\"haarcascade_frontalface_default.xml\")\n",
        "\n",
        "#access our device’s camera to read a live stream of video data\n",
        "video_capture = cv2.VideoCapture(1)\n",
        "\n",
        "# Continuasly looking for faces in the image using the loaded cascade file\n",
        "while True:\n",
        "    # Capture frame-by-frame\n",
        "    ret, frame = video_capture.read()\n",
        "\n",
        "    gray = cv2.cvtColor(frame, cv2.COLOR_BGR2GRAY)\n",
        "\n",
        "    faces = faceCascade.detectMultiScale(\n",
        "        gray,\n",
        "        scaleFactor=1.1,\n",
        "        minNeighbors=5,\n",
        "        minSize=(30, 30),\n",
        "    )\n",
        "\n",
        "    # Draw a rectangle around the faces\n",
        "    for (x, y, w, h) in faces:\n",
        "        cv2.rectangle(frame, (x, y), (x+w, y+h), (0, 255, 0), 2)\n",
        "\n",
        "    # Display the resulting frame\n",
        "    cv2.imshow('Video', frame)\n",
        "\n",
        "    if cv2.waitKey(10) & 0xFF == ord('q'):\n",
        "        video_capture.release() \n",
        "        cv2.destroyAllWindows() \n",
        "        break\n",
        "\n",
        "\n",
        "  "
      ]
    },
    {
      "cell_type": "markdown",
      "metadata": {},
      "source": [
        "### Car detection "
      ]
    },
    {
      "cell_type": "code",
      "execution_count": 7,
      "metadata": {},
      "outputs": [],
      "source": [
        "import cv2\n",
        "import time\n",
        "import numpy as np\n",
        "\n",
        "# Create our body classifier\n",
        "car_classifier = cv2.CascadeClassifier('haarcascade_car.xml')\n",
        "\n",
        "# Initiate video capture for video file\n",
        "cap = cv2.VideoCapture('Cars.mp4')\n",
        "\n",
        "# Check if the video opened successfully\n",
        "if not cap.isOpened():\n",
        "    print(\"Error: Could not open video.\")\n",
        "    exit()\n",
        "\n",
        "# Loop once video is successfully loaded\n",
        "while cap.isOpened():\n",
        "    time.sleep(0.05)\n",
        "    \n",
        "    # Read first frame\n",
        "    ret, frame = cap.read()\n",
        "    \n",
        "    # If frame is read correctly, ret will be True\n",
        "    if not ret:\n",
        "        print(\"Error: Could not read frame.\")\n",
        "        break\n",
        "    \n",
        "    gray = cv2.cvtColor(frame, cv2.COLOR_BGR2GRAY)\n",
        "    \n",
        "    # Pass frame to our car classifier\n",
        "    cars = car_classifier.detectMultiScale(gray, 1.4, 2)\n",
        "    \n",
        "    # Extract bounding boxes for any bodies identified\n",
        "    for (x, y, w, h) in cars:\n",
        "        cv2.rectangle(frame, (x, y), (x + w, y + h), (0, 255, 255), 2)\n",
        "    \n",
        "    # Show the frame with detected cars\n",
        "    cv2.imshow('Cars', frame)\n",
        "\n",
        "    # Press 'q' to exit the loop\n",
        "    if cv2.waitKey(1) & 0xFF == ord('q'):\n",
        "        break\n",
        "\n",
        "# Release the capture and close any OpenCV windows\n",
        "cap.release()\n",
        "cv2.destroyAllWindows()\n"
      ]
    },
    {
      "cell_type": "markdown",
      "metadata": {},
      "source": [
        "### Real-time face recognition\n",
        "Steps:\n",
        "1. collect dataset\n",
        "2. train model\n",
        "3. test model"
      ]
    },
    {
      "cell_type": "markdown",
      "metadata": {},
      "source": [
        "https://github.com/medsriha/real-time-face-recognition/tree/master"
      ]
    },
    {
      "cell_type": "markdown",
      "metadata": {},
      "source": [
        "### Stop sign detection"
      ]
    },
    {
      "cell_type": "markdown",
      "metadata": {},
      "source": [
        "https://github.com/maurehur/Stop-Sign-detection_OpenCV"
      ]
    },
    {
      "cell_type": "markdown",
      "metadata": {},
      "source": [
        "### Object Tracking"
      ]
    },
    {
      "attachments": {
        "db4fbba0-d7d8-4897-970c-94d6262cf010.png": {
          "image/png": "[encoded data removed]"
        }
      },
      "cell_type": "markdown",
      "metadata": {},
      "source": [
        "![image.png](attachment:db4fbba0-d7d8-4897-970c-94d6262cf010.png)"
      ]
    },
    {
      "cell_type": "code",
      "execution_count": 15,
      "metadata": {
        "trusted": true
      },
      "outputs": [],
      "source": [
        "import numpy as np\n",
        "import cv2 as cv\n",
        "\n",
        "cap = cv.VideoCapture(1)\n",
        "\n",
        "ret, frame = cap.read()\n",
        "bbox = cv.selectROI('select', frame, False)\n",
        "\n",
        "x, y, w, h = bbox\n",
        "\n",
        "roi = frame[y:y+h, x:x+w]\n",
        "hsv_roi = cv.cvtColor(roi, cv.COLOR_BGR2HSV)\n",
        "mask = cv.inRange(hsv_roi, np.array((0., 60., 32.)),\n",
        "                  np.array((180., 255., 255.)))\n",
        "roi_hist = cv.calcHist([hsv_roi], [0], mask, [180], [0, 180])\n",
        "cv.normalize(roi_hist, roi_hist, 0, 255, cv.NORM_MINMAX)\n",
        "\n",
        "term_crit = (cv.TERM_CRITERIA_EPS | cv.TERM_CRITERIA_COUNT, 10, 1)\n",
        "\n",
        "while(1):\n",
        "    ret, frame = cap.read()\n",
        "\n",
        "    if ret == True:\n",
        "        hsv = cv.cvtColor(frame, cv.COLOR_BGR2HSV)\n",
        "        dst = cv.calcBackProject([hsv], [0], roi_hist, [0, 180], 1)\n",
        "\n",
        "        ret, track_window = cv.meanShift(dst, bbox, term_crit)\n",
        "\n",
        "        x, y, w, h = track_window\n",
        "        img2 = cv.rectangle(frame, (x, y), (x+w, y+h), 255, 2)\n",
        "        cv.imshow('gfg', img2)\n",
        "\n",
        "        k = cv.waitKey(30) & 0xff\n",
        "        if k == 27:\n",
        "            break\n",
        "    else:\n",
        "        break\n",
        "cap.release()\n",
        "cv.destroyAllWindows()\n"
      ]
    },
    {
      "cell_type": "markdown",
      "metadata": {},
      "source": [
        "### Other Projects"
      ]
    },
    {
      "cell_type": "markdown",
      "metadata": {},
      "source": [
        "https://github.com/rchavezj/OpenCV_Projects?tab=readme-ov-file#Object-Detection-Part-1-Intro"
      ]
    }
  ],
  "metadata": {
    "kernelspec": {
      "display_name": "base",
      "language": "python",
      "name": "python3"
    },
    "language_info": {
      "codemirror_mode": {
        "name": "ipython",
        "version": 3
      },
      "file_extension": ".py",
      "mimetype": "text/x-python",
      "name": "python",
      "nbconvert_exporter": "python",
      "pygments_lexer": "ipython3",
      "version": "3.12.4"
    }
  },
  "nbformat": 4,
  "nbformat_minor": 4
}
